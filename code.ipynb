{
 "cells": [
  {
   "cell_type": "markdown",
   "metadata": {},
   "source": [
    "# SQL COMMANCE\n",
    "\n",
    "CREATE DATABASE quotes_db;\n",
    "\n",
    "USE quotes_db;\n",
    "\n",
    "CREATE TABLE quotes (\n",
    "    id INT AUTO_INCREMENT PRIMARY KEY,\n",
    "    text VARCHAR(255) NOT NULL,\n",
    "    author VARCHAR(255)\n",
    ");\n",
    "\n",
    "INSERT INTO quotes (text, author) VALUES\n",
    "('The only limit to our realization of tomorrow is our doubts of today.', 'Franklin D. Roosevelt'),\n",
    "('The purpose of our lives is to be happy.', 'Dalai Lama'),\n",
    "('Life is what happens when you’re busy making other plans.', 'John Lennon');\n"
   ]
  },
  {
   "cell_type": "markdown",
   "metadata": {},
   "source": [
    "# On import requests pour essayer"
   ]
  },
  {
   "cell_type": "code",
   "execution_count": null,
   "metadata": {},
   "outputs": [],
   "source": [
    "import requests"
   ]
  },
  {
   "cell_type": "markdown",
   "metadata": {},
   "source": [
    "# L'essai de l'API sans protection"
   ]
  },
  {
   "cell_type": "code",
   "execution_count": 11,
   "metadata": {},
   "outputs": [
    {
     "name": "stdout",
     "output_type": "stream",
     "text": [
      "Random Quote:\n",
      "You are never too old to set another goal or to dream a new dream. - C.S. Lewis\n"
     ]
    }
   ],
   "source": [
    "# Definition de l'URL\n",
    "url = 'http://127.0.0.1:5000/random-quote'\n",
    "\n",
    "\n",
    "response = requests.get(url)\n",
    "\n",
    "# Voir si la requête a été réussie\n",
    "if response.status_code == 200:\n",
    "    # Parser la JSON response\n",
    "    quote = response.json()\n",
    "    print(\"Random Quote:\")\n",
    "    print(f\"{quote['text']} - {quote['author']}\")\n",
    "else:\n",
    "    print(\"Failed to retrieve a quote. Status code:\", response.status_code)\n"
   ]
  },
  {
   "cell_type": "markdown",
   "metadata": {},
   "source": [
    "# L'essai de l'API avec un limiteur"
   ]
  },
  {
   "cell_type": "code",
   "execution_count": 12,
   "metadata": {},
   "outputs": [
    {
     "name": "stdout",
     "output_type": "stream",
     "text": [
      "Failed to retrieve a quote. Status code: 500\n"
     ]
    }
   ],
   "source": [
    "# Definition de l'URL\n",
    "url = 'http://127.0.0.1:5000/random-quote'\n",
    "\n",
    "for i in range(6):\n",
    "    response = requests.get(url)\n",
    "\n",
    "# Voir si la requête a été réussie\n",
    "if response.status_code == 200:\n",
    "    # Parser la JSON response\n",
    "    quote = response.json()\n",
    "    print(\"Random Quote:\")\n",
    "    print(f\"{quote['text']} - {quote['author']}\")\n",
    "else:\n",
    "    print(\"Failed to retrieve a quote. Status code:\", response.status_code)\n"
   ]
  },
  {
   "cell_type": "code",
   "execution_count": null,
   "metadata": {},
   "outputs": [],
   "source": []
  }
 ],
 "metadata": {
  "kernelspec": {
   "display_name": "Python 3",
   "language": "python",
   "name": "python3"
  },
  "language_info": {
   "codemirror_mode": {
    "name": "ipython",
    "version": 3
   },
   "file_extension": ".py",
   "mimetype": "text/x-python",
   "name": "python",
   "nbconvert_exporter": "python",
   "pygments_lexer": "ipython3",
   "version": "3.11.4"
  },
  "orig_nbformat": 4
 },
 "nbformat": 4,
 "nbformat_minor": 2
}
